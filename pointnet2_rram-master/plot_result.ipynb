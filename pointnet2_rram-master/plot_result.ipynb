{
 "cells": [
  {
   "cell_type": "code",
   "execution_count": 4,
   "metadata": {},
   "outputs": [],
   "source": [
    "import matplotlib.pyplot as plt"
   ]
  },
  {
   "cell_type": "markdown",
   "metadata": {},
   "source": [
    "## pruning and noise test results\n",
    "\n",
    "batch size is set as 64, for training, there are 50 epochs in total. the learning rate is 0.001. each point cloud is sampled to have 1024 points."
   ]
  },
  {
   "cell_type": "code",
   "execution_count": 5,
   "metadata": {},
   "outputs": [
    {
     "name": "stdout",
     "output_type": "stream",
     "text": [
      "[0.0, 0.02, 0.04, 0.06, 0.08, 0.1, 0.12]\n"
     ]
    }
   ],
   "source": [
    "c_prune_list = [0, 2, 4, 8]\n",
    "c_prune_result = [0.940625 , 0.943750, 0.9385, 0.9302]\n",
    "\n",
    "noise_list = list(range(0, 13, 2))\n",
    "noise_list = [x * 0.01 for x in noise_list]\n",
    "print(noise_list)\n",
    "noise_result_list = [0.9302, 0.9271, 0.9188, 0.9219, 0.9167, 0.9146, 0.8740]\n",
    "\n",
    "# VMM-wise noise\n",
    "noise_result_vmm_list = [0.9302, 0.927083, 0.928125, 0.921875, 0.918750, 0.910417, 0.898958]\n"
   ]
  },
  {
   "cell_type": "code",
   "execution_count": 6,
   "metadata": {},
   "outputs": [
    {
     "data": {
      "image/png": "[encoded data removed]",
      "text/plain": [
       "<Figure size 432x288 with 1 Axes>"
      ]
     },
     "metadata": {
      "needs_background": "light"
     },
     "output_type": "display_data"
    },
    {
     "data": {
      "image/png": "[encoded data removed]",
      "text/plain": [
       "<Figure size 432x288 with 1 Axes>"
      ]
     },
     "metadata": {
      "needs_background": "light"
     },
     "output_type": "display_data"
    }
   ],
   "source": [
    "plt.figure()\n",
    "plt.bar(list(range(4)), c_prune_result, width=0.5, color=['tab:blue', 'teal', 'green', 'seagreen'])\n",
    "plt.xticks([0,1,2,3], c_prune_list)\n",
    "plt.xlabel('pruning ratio')\n",
    "plt.ylabel('accuracy')\n",
    "plt.savefig('c_prune_result.pdf')\n",
    "plt.show()\n",
    "plt.close()\n",
    "\n",
    "plt.figure()\n",
    "# plt.bar(noise_list, noise_result_list, width=0.01)\n",
    "plt.bar(noise_list, noise_result_vmm_list, width=0.01)\n",
    "plt.xlabel('noise ratio')\n",
    "plt.ylabel('accuracy')\n",
    "plt.savefig('noise_result_vmm.pdf')\n",
    "plt.show()\n",
    "plt.close()"
   ]
  }
 ],
 "metadata": {
  "interpreter": {
   "hash": "49ae8841d002beb50bb2bc198cedf98282dc02534e6a5b48d6577a9511bede09"
  },
  "kernelspec": {
   "display_name": "Python 3.7.10 64-bit ('rand_mat': conda)",
   "language": "python",
   "name": "python3"
  },
  "language_info": {
   "codemirror_mode": {
    "name": "ipython",
    "version": 3
   },
   "file_extension": ".py",
   "mimetype": "text/x-python",
   "name": "python",
   "nbconvert_exporter": "python",
   "pygments_lexer": "ipython3",
   "version": "3.7.10"
  },
  "orig_nbformat": 4
 },
 "nbformat": 4,
 "nbformat_minor": 2
}
