{
 "cells": [
  {
   "cell_type": "code",
   "execution_count": 1,
   "metadata": {},
   "outputs": [
    {
     "name": "stdout",
     "output_type": "stream",
     "text": [
      "num_param_encode (uncomressed): 111726.5\n",
      "num_param_decode (uncomressed): 82337.25\n",
      "num_param_rec_encode (uncompressed): 47376.0\n",
      "total #param of feedforward network 194063.75\n",
      "total #param of recurrent network 129713.25\n"
     ]
    }
   ],
   "source": [
    "# pointnet2 encoder num_param\n",
    "num_param_encode = (3 + 1) * 64 + (64 + 1) * 64 + (64 + 1) * 128 + (128 + 1) * 128 + 129 * 128 + 129 * 256 + 257 * 256 + 257 * 512 + 513 * 1204\n",
    "num_param_decode = 1025 * 512 + 513 *256 + 257 * 10\n",
    "\n",
    "num_param_rec_encode = 4 * 128 + 129 * 128 + 129 * 256 + 257 * 256 + 257 * 512 + 513 * 512 + 513 * 1024 + 1025 * 1024\n",
    "num_param_rec_encode_new = 4 * 128 + 129 * 128 + 129 * 256 + 257 * 256 + 257 * 1024\n",
    "print('num_param_encode (uncomressed):', num_param_encode / 8)\n",
    "print('num_param_decode (uncomressed):', num_param_decode / 8)\n",
    "print('num_param_rec_encode (uncompressed):', num_param_rec_encode_new/8)\n",
    "print('total #param of feedforward network', sum([num_param_encode, num_param_decode]) / 8)\n",
    "print('total #param of recurrent network', sum([num_param_decode, num_param_rec_encode_new]) / 8)\n"
   ]
  }
 ],
 "metadata": {
  "interpreter": {
   "hash": "49ae8841d002beb50bb2bc198cedf98282dc02534e6a5b48d6577a9511bede09"
  },
  "kernelspec": {
   "display_name": "Python 3.7.10 64-bit ('rand_mat': conda)",
   "language": "python",
   "name": "python3"
  },
  "language_info": {
   "codemirror_mode": {
    "name": "ipython",
    "version": 3
   },
   "file_extension": ".py",
   "mimetype": "text/x-python",
   "name": "python",
   "nbconvert_exporter": "python",
   "pygments_lexer": "ipython3",
   "version": "3.7.10"
  },
  "orig_nbformat": 4
 },
 "nbformat": 4,
 "nbformat_minor": 2
}
